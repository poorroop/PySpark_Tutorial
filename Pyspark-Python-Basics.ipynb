{
 "cells": [
  {
   "cell_type": "markdown",
   "metadata": {},
   "source": [
    "# lambda\n",
    "### Syntax of Lambda Function – lambda arguments: expression"
   ]
  },
  {
   "cell_type": "code",
   "execution_count": 2,
   "metadata": {},
   "outputs": [
    {
     "name": "stdout",
     "output_type": "stream",
     "text": [
      "35\n"
     ]
    }
   ],
   "source": [
    "# Multiply two number\n",
    "multiply = lambda x,y: x*y\n",
    "print(multiply(5,7))"
   ]
  },
  {
   "cell_type": "markdown",
   "metadata": {},
   "source": [
    "# Map\n",
    "### Syntax - resulting_map = map(function , sequence)"
   ]
  },
  {
   "cell_type": "code",
   "execution_count": 4,
   "metadata": {},
   "outputs": [
    {
     "name": "stdout",
     "output_type": "stream",
     "text": [
      "[104.0, 91.76, 95.53999999999999, 107.24, 86.18]\n"
     ]
    }
   ],
   "source": [
    "#converting Celsius to Fahrenheit\n",
    "Celsius = [40, 33.2, 35.3, 41.8, 30.1]\n",
    "Fahrenheit = map(lambda x: (float(9)/5)*x+32,Celsius)\n",
    "print(list(Fahrenheit))"
   ]
  },
  {
   "cell_type": "markdown",
   "metadata": {},
   "source": [
    "# Filter\n",
    "### Syntax – filter(function,list)"
   ]
  },
  {
   "cell_type": "code",
   "execution_count": 6,
   "metadata": {},
   "outputs": [],
   "source": [
    "numbers = [0,0,1,2,3,5,6,9,11,23,34,45,50,77]\n",
    "#obtaining the odd numbers from the numbers list\n",
    "odd_numbers = filter(lambda x: x%2,numbers)"
   ]
  },
  {
   "cell_type": "markdown",
   "metadata": {},
   "source": [
    "# Reduce\n",
    "### Syntax – reduce(function,list)"
   ]
  },
  {
   "cell_type": "code",
   "execution_count": 7,
   "metadata": {},
   "outputs": [
    {
     "name": "stdout",
     "output_type": "stream",
     "text": [
      "Sum of numbers 1 to 50 is 1225\n",
      "Multiplied list result is 50\n",
      "Largest element of list is 210\n"
     ]
    }
   ],
   "source": [
    "#Code Snippet 16\n",
    "from functools import reduce #importing the reduce library\n",
    "counting=reduce(lambda x, y: x+y, range(1,50))\n",
    "print(\"Sum of numbers 1 to 50 is {}\".format(counting))\n",
    "multiplying=reduce(lambda x,y: x*y, [1,5,10])\n",
    "print(\"Multiplied list result is {}\".format(multiplying))\n",
    "largest_in_list = lambda a,b: a if (a > b) else b\n",
    "largest=reduce(largest_in_list, [100,101,155,122,210])\n",
    "print(\"Largest element of list is {}\".format(largest))"
   ]
  },
  {
   "cell_type": "markdown",
   "metadata": {},
   "source": [
    "# List Comprehensions\n",
    "### Syntax – [expression for element in list if condition]"
   ]
  },
  {
   "cell_type": "code",
   "execution_count": 8,
   "metadata": {},
   "outputs": [
    {
     "name": "stdout",
     "output_type": "stream",
     "text": [
      "Squares using List Comprehensions - [0, 1, 4, 9, 16]\n"
     ]
    }
   ],
   "source": [
    "#using the List comprehensions\n",
    "print(\"Squares using List Comprehensions - {}\".format([sq**2\n",
    "for sq in range(5)]))"
   ]
  },
  {
   "cell_type": "markdown",
   "metadata": {},
   "source": [
    "# Data Frames"
   ]
  },
  {
   "cell_type": "markdown",
   "metadata": {},
   "source": [
    "### Importing the spark session"
   ]
  },
  {
   "cell_type": "code",
   "execution_count": 14,
   "metadata": {},
   "outputs": [],
   "source": [
    "# Download Spark\n",
    "# !tar -xzf spark-1.2.0-bin-hadoop2.4.tgz\n",
    "# !mv spark-1.2.0-bin-hadoop2.4 /opt/spark-1.2.0\n",
    "#!pip install findspark\n",
    "import findspark\n",
    "findspark.init()\n",
    "#Importing the Spark Session\n",
    "from pyspark.sql import SparkSession\n",
    "#Creating the Spark Session\n",
    "spark = SparkSession.builder.appName('myFirstSparkSession').getOrCreate()"
   ]
  },
  {
   "cell_type": "code",
   "execution_count": null,
   "metadata": {},
   "outputs": [],
   "source": []
  }
 ],
 "metadata": {
  "kernelspec": {
   "display_name": "Python 3",
   "language": "python",
   "name": "python3"
  },
  "language_info": {
   "codemirror_mode": {
    "name": "ipython",
    "version": 3
   },
   "file_extension": ".py",
   "mimetype": "text/x-python",
   "name": "python",
   "nbconvert_exporter": "python",
   "pygments_lexer": "ipython3",
   "version": "3.7.8"
  }
 },
 "nbformat": 4,
 "nbformat_minor": 4
}
